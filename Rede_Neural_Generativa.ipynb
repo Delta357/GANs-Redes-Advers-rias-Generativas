{
  "nbformat": 4,
  "nbformat_minor": 0,
  "metadata": {
    "colab": {
      "private_outputs": true,
      "provenance": [],
      "gpuType": "T4"
    },
    "kernelspec": {
      "name": "python3",
      "display_name": "Python 3"
    },
    "language_info": {
      "name": "python"
    },
    "accelerator": "GPU"
  },
  "cells": [
    {
      "cell_type": "code",
      "execution_count": null,
      "metadata": {
        "id": "WR5vO1bH8Qv_"
      },
      "outputs": [],
      "source": [
        "import numpy as np\n",
        "import matplotlib.pyplot as plt\n",
        "import tensorflow as tf\n",
        "from tensorflow.keras.datasets import mnist\n",
        "from tensorflow.keras.layers import Dense, Reshape, Flatten\n",
        "from tensorflow.keras.layers import Conv2D, Conv2DTranspose\n",
        "from tensorflow.keras.models import Sequential\n",
        "from tensorflow.keras.optimizers import Adam"
      ]
    },
    {
      "cell_type": "code",
      "source": [
        "# Definir a dimensão do ruído de entrada para a RNG\n",
        "latent_dim = 100"
      ],
      "metadata": {
        "id": "XOThWBKz8SQ7"
      },
      "execution_count": null,
      "outputs": []
    },
    {
      "cell_type": "code",
      "source": [
        "# Carregar o conjunto de dados MNIST\n",
        "(x_train, _), (_, _) = mnist.load_data()"
      ],
      "metadata": {
        "id": "QQUAjwax8SUC"
      },
      "execution_count": null,
      "outputs": []
    },
    {
      "cell_type": "code",
      "source": [
        "# Construir o gerador\n",
        "generator = Sequential()\n",
        "generator.add(Dense(7 * 7 * 128, input_dim=latent_dim))\n",
        "generator.add(Reshape((7, 7, 128)))\n",
        "generator.add(Conv2DTranspose(64, kernel_size=4, strides=2, padding='same', activation='relu'))\n",
        "generator.add(Conv2DTranspose(1, kernel_size=4, strides=2, padding='same', activation='tanh'))\n",
        "\n",
        "# Construir o discriminador\n",
        "discriminator = Sequential()\n",
        "discriminator.add(Conv2D(64, kernel_size=4, strides=2, padding='same', input_shape=(28, 28, 1), activation='relu'))\n",
        "discriminator.add(Conv2D(128, kernel_size=4, strides=2, padding='same', activation='relu'))\n",
        "discriminator.add(Flatten())\n",
        "discriminator.add(Dense(1, activation='sigmoid'))\n",
        "\n",
        "# Compilar o discriminador\n",
        "discriminator.compile(loss='binary_crossentropy', optimizer=Adam(lr=0.0002, beta_1=0.5), metrics=['accuracy'])\n",
        "\n",
        "# Congelar os pesos do discriminador durante o treinamento do gerador\n",
        "discriminator.trainable = False\n",
        "\n",
        "# Construir a RNG\n",
        "gan = Sequential()\n",
        "gan.add(generator)\n",
        "gan.add(discriminator)"
      ],
      "metadata": {
        "id": "SCynIAIU8SXd"
      },
      "execution_count": null,
      "outputs": []
    },
    {
      "cell_type": "code",
      "source": [
        "# Compilar a RNG\n",
        "gan.compile(loss='binary_crossentropy', optimizer=Adam(lr=0.0002, beta_1=0.5))"
      ],
      "metadata": {
        "id": "QtybiYId8SZ6"
      },
      "execution_count": null,
      "outputs": []
    },
    {
      "cell_type": "code",
      "source": [
        "# Função para amostrar ruído aleatório para a entrada do gerador\n",
        "def generate_latent_points(latent_dim, n_samples):\n",
        "    return np.random.randn(latent_dim * n_samples).reshape((n_samples, latent_dim))\n",
        "\n",
        "# Função para gerar imagens usando o gerador\n",
        "def generate_images(generator, latent_dim, n_samples):\n",
        "    noise = generate_latent_points(latent_dim, n_samples)\n",
        "    generated_images = generator.predict(noise)\n",
        "    generated_images = 0.5 * generated_images + 0.5  # Normalizar as imagens para o intervalo [0, 1]\n",
        "    return generated_images\n",
        "\n",
        "# Função para exibir as imagens geradas\n",
        "def plot_generated_images(images):\n",
        "    fig, axs = plt.subplots(5, 5)\n",
        "    count = 0\n",
        "    for i in range(5):\n",
        "        for j in range(5):\n",
        "            axs[i, j].imshow(images[count, :, :, 0], cmap='gray')\n",
        "            axs[i, j].axis('off')\n",
        "            count += 1\n",
        "    plt.show()\n",
        "\n",
        "# Treinamento da RNG\n",
        "epochs = 50\n",
        "batch_size = 128\n",
        "n_samples = 2"
      ],
      "metadata": {
        "id": "crYoD1Jc8Scz"
      },
      "execution_count": null,
      "outputs": []
    },
    {
      "cell_type": "code",
      "source": [
        "# Treinamento da RNG (continuação)\n",
        "for epoch in range(epochs):\n",
        "    for batch in range(x_train.shape[0] // batch_size):\n",
        "        # Treinar o discriminador\n",
        "        real_images = x_train[batch * batch_size: (batch + 1) * batch_size]\n",
        "        real_labels = np.ones((batch_size, 1))\n",
        "        fake_labels = np.zeros((batch_size, 1))\n",
        "        noise = generate_latent_points(latent_dim, batch_size)\n",
        "        generated_images = generator.predict(noise)\n",
        "\n",
        "        discriminator_loss_real = discriminator.train_on_batch(real_images, real_labels)\n",
        "        discriminator_loss_fake = discriminator.train_on_batch(generated_images, fake_labels)\n",
        "        discriminator_loss = 0.5 * np.add(discriminator_loss_real, discriminator_loss_fake)\n",
        "\n",
        "        # Treinar o gerador\n",
        "        noise = generate_latent_points(latent_dim, batch_size)\n",
        "        generator_loss = gan.train_on_batch(noise, real_labels)\n",
        "\n",
        "    # Imprimir métricas de treinamento a cada época\n",
        "    print(f'Epoch {epoch+1}/{epochs} - Discriminator Loss: {discriminator_loss[0]:.4f} - '\n",
        "          f'Discriminator Accuracy: {discriminator_loss[1]*100:.2f}% - Generator Loss: {generator_loss:.4f}')\n",
        "\n",
        "    # Gerar imagens para visualização\n",
        "    if (epoch + 1) % 10 == 0:\n",
        "        generated_images = generate_images(generator, latent_dim, 25)\n",
        "        plot_generated_images(generated_images)\n"
      ],
      "metadata": {
        "id": "1d0rwcqB8gz8"
      },
      "execution_count": null,
      "outputs": []
    },
    {
      "cell_type": "code",
      "source": [],
      "metadata": {
        "id": "ZEl_4giW9dxq"
      },
      "execution_count": null,
      "outputs": []
    }
  ]
}