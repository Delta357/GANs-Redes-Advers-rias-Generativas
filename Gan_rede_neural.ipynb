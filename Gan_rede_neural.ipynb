{
  "nbformat": 4,
  "nbformat_minor": 0,
  "metadata": {
    "colab": {
      "private_outputs": true,
      "provenance": [],
      "gpuType": "T4"
    },
    "kernelspec": {
      "name": "python3",
      "display_name": "Python 3"
    },
    "language_info": {
      "name": "python"
    },
    "accelerator": "GPU"
  },
  "cells": [
    {
      "cell_type": "code",
      "source": [
        "!pip install clip"
      ],
      "metadata": {
        "id": "1LVIKDIR9rOp"
      },
      "execution_count": null,
      "outputs": []
    },
    {
      "cell_type": "code",
      "source": [
        "!pip install timm"
      ],
      "metadata": {
        "id": "yd-gUxlwAAPq"
      },
      "execution_count": null,
      "outputs": []
    },
    {
      "cell_type": "code",
      "source": [
        "!pip install torch pytorch-pretrained-biggan"
      ],
      "metadata": {
        "id": "dvbixnnTAAUE"
      },
      "execution_count": null,
      "outputs": []
    },
    {
      "cell_type": "code",
      "source": [
        "!pip install pytorch-pretrained-gans"
      ],
      "metadata": {
        "id": "CXiUkgQjEGbi"
      },
      "execution_count": null,
      "outputs": []
    },
    {
      "cell_type": "code",
      "execution_count": null,
      "metadata": {
        "id": "YUW3yJYG9gUN"
      },
      "outputs": [],
      "source": [
        "import torch\n",
        "import numpy as np\n",
        "from torchvision.transforms import functional as F\n",
        "from PIL import Image\n",
        "from pytorch_pretrained_biggan import (BigGAN, one_hot_from_names, truncated_noise_sample)\n"
      ]
    },
    {
      "cell_type": "code",
      "source": [
        "# Carregar o modelo BigGAN pré-treinado\n",
        "model = BigGAN.from_pretrained('biggan-deep-256').cuda().eval()"
      ],
      "metadata": {
        "id": "QXqCFAUJ9tTf"
      },
      "execution_count": null,
      "outputs": []
    },
    {
      "cell_type": "code",
      "source": [
        "# Função para gerar imagens de flores a partir de texto\n",
        "def generate_flower_image(text):\n",
        "    # Converter o texto em vetor latente\n",
        "    with torch.no_grad():\n",
        "        class_vector = one_hot_from_names([text], batch_size=1)\n",
        "        noise_vector = truncated_noise_sample(truncation=0.4, batch_size=1)\n",
        "        input_vector = torch.from_numpy(class_vector).cuda()\n",
        "        noise_vector = torch.from_numpy(noise_vector).cuda()\n",
        "\n",
        "    # Gerar uma imagem de flor a partir do vetor latente usando o modelo BigGAN\n",
        "    with torch.no_grad():\n",
        "        output = model(noise_vector, input_vector)\n",
        "        image_array = output[0].cpu().numpy()\n",
        "        image_array = (image_array + 1) / 2.0\n",
        "        image_array = np.transpose(image_array, (1, 2, 0))\n",
        "        image = Image.fromarray((image_array * 255).astype(np.uint8))\n",
        "\n",
        "    return image"
      ],
      "metadata": {
        "id": "k7dzcZOg90C7"
      },
      "execution_count": null,
      "outputs": []
    },
    {
      "cell_type": "code",
      "source": [
        "import nltk\n",
        "nltk.download('wordnet')"
      ],
      "metadata": {
        "id": "JEJdMXvqAdaC"
      },
      "execution_count": null,
      "outputs": []
    },
    {
      "cell_type": "code",
      "source": [
        "# Exemplo de uso\n",
        "text = \"flower data\"\n",
        "image = generate_flower_image(text)\n",
        "image.show()"
      ],
      "metadata": {
        "id": "mr56IZGi90Fc"
      },
      "execution_count": null,
      "outputs": []
    },
    {
      "cell_type": "code",
      "source": [],
      "metadata": {
        "id": "yWTkHwqDF_6x"
      },
      "execution_count": null,
      "outputs": []
    }
  ]
}