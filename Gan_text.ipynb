{
  "nbformat": 4,
  "nbformat_minor": 0,
  "metadata": {
    "colab": {
      "private_outputs": true,
      "provenance": []
    },
    "kernelspec": {
      "name": "python3",
      "display_name": "Python 3"
    },
    "language_info": {
      "name": "python"
    }
  },
  "cells": [
    {
      "cell_type": "code",
      "execution_count": null,
      "metadata": {
        "id": "DpPRdAEdEoVs"
      },
      "outputs": [],
      "source": [
        "import tensorflow as tf\n",
        "import matplotlib.pyplot as plt\n",
        "from tensorflow.keras import layers"
      ]
    },
    {
      "cell_type": "code",
      "source": [
        "# Definir a nova estrutura do gerador\n",
        "def build_generator(latent_dim):\n",
        "    model = tf.keras.Sequential()\n",
        "    model.add(layers.Dense(256, input_dim=latent_dim, activation='relu'))\n",
        "    model.add(layers.Reshape((16, 16, 1)))\n",
        "    model.add(layers.Conv2DTranspose(128, (4, 4), strides=(2, 2), padding='same', activation='relu'))\n",
        "    model.add(layers.Conv2DTranspose(64, (4, 4), strides=(2, 2), padding='same', activation='relu'))\n",
        "    model.add(layers.Conv2DTranspose(1, (4, 4), strides=(2, 2), padding='same', activation='tanh'))\n",
        "    return model"
      ],
      "metadata": {
        "id": "H856kG1qGK-g"
      },
      "execution_count": null,
      "outputs": []
    },
    {
      "cell_type": "code",
      "source": [
        "# Carregar os pesos do arquivo\n",
        "latent_dim = 100\n",
        "generator = build_generator(latent_dim)\n",
        "generator.load_weights('/content/generator_weights.h5', by_name=True, skip_mismatch=True)"
      ],
      "metadata": {
        "id": "9XmkxxjRIAyE"
      },
      "execution_count": null,
      "outputs": []
    },
    {
      "cell_type": "code",
      "source": [
        "# Usar o gerador para gerar imagens\n",
        "# Exemplo:\n",
        "noise = tf.random.normal([1, latent_dim])\n",
        "generated_image = generator.predict(noise)"
      ],
      "metadata": {
        "id": "eZquHfETIA1Y"
      },
      "execution_count": null,
      "outputs": []
    },
    {
      "cell_type": "code",
      "source": [
        "# Exibir a imagem gerada\n",
        "plt.imshow(generated_image[0, :, :, 0])\n",
        "plt.axis('off')\n",
        "plt.show()"
      ],
      "metadata": {
        "id": "Bol5NFH-IA4b"
      },
      "execution_count": null,
      "outputs": []
    },
    {
      "cell_type": "markdown",
      "source": [
        "# **GAN 2**"
      ],
      "metadata": {
        "id": "td_dTs5mIxuT"
      }
    },
    {
      "cell_type": "code",
      "source": [
        "# Função para pré-processar o texto\n",
        "def preprocess_text(text):\n",
        "    # Implemente aqui o pré-processamento do texto\n",
        "    # Neste exemplo, estamos apenas retornando o texto original\n",
        "    return text"
      ],
      "metadata": {
        "id": "gN9XWzBUIShl"
      },
      "execution_count": null,
      "outputs": []
    },
    {
      "cell_type": "code",
      "source": [
        "# Definir a nova estrutura do gerador\n",
        "def build_generator(latent_dim):\n",
        "    model = tf.keras.Sequential()\n",
        "    model.add(layers.Dense(256, input_dim=latent_dim, activation='relu'))\n",
        "    model.add(layers.Dense(512, activation='relu'))\n",
        "    model.add(layers.Dense(784, activation='tanh'))\n",
        "    model.add(layers.Reshape((28, 28, 1)))\n",
        "    return model"
      ],
      "metadata": {
        "id": "ROGI55htJD5e"
      },
      "execution_count": null,
      "outputs": []
    },
    {
      "cell_type": "code",
      "source": [
        "# Carregar os pesos do arquivo\n",
        "latent_dim = 100\n",
        "generator = build_generator(latent_dim)\n",
        "generator.load_weights('/content/generator_weights.h5', by_name=True, skip_mismatch=True)\n"
      ],
      "metadata": {
        "id": "dEeu9tA1ISmD"
      },
      "execution_count": null,
      "outputs": []
    },
    {
      "cell_type": "code",
      "source": [
        "# Usar o gerador para gerar imagens\n",
        "# Exemplo:\n",
        "text = \"A beautiful flower with pink petals and a yellow center.\"\n",
        "preprocessed_text = preprocess_text(text)\n",
        "latent_vector = tf.random.normal([2, latent_dim])\n",
        "generated_image = generator.predict(latent_vector)"
      ],
      "metadata": {
        "id": "uQexMQvbIA7Z"
      },
      "execution_count": null,
      "outputs": []
    },
    {
      "cell_type": "code",
      "source": [
        "# Exibir a imagem gerada\n",
        "plt.imshow(generated_image[0])\n",
        "plt.axis('on')\n",
        "plt.show()"
      ],
      "metadata": {
        "id": "-HIqzKKAIA-C"
      },
      "execution_count": null,
      "outputs": []
    }
  ]
}